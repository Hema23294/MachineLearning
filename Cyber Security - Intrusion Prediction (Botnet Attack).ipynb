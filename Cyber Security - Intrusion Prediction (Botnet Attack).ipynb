{
 "cells": [
  {
   "cell_type": "markdown",
   "metadata": {},
   "source": [
    "# Introduction and Purpose:\n",
    "We want to build a model that can accurately predict if the transmission is benign or if it has any malicious interuption.\n",
    "\n",
    "I have used multiple machine learning algorithms to pick the best possible model that gives the most accurate result.\n",
    "\n",
    "Algorithms Used:\n",
    "\n",
    "Logistic Regression\n",
    "\n",
    "KNN Classifier\n",
    "\n",
    "Random Forest Classifier\n",
    "\n",
    "Multi-layer Perceptron(MLP) Classifier "
   ]
  },
  {
   "cell_type": "markdown",
   "metadata": {},
   "source": [
    "# Citation:\n",
    "-- Reference to the article where the dataset was initially described and used:\n",
    "Y. Meidan, M. Bohadana, Y. Mathov, Y. Mirsky, D. Breitenbacher, A. Shabtai, and Y. Elovici 'N-BaIoT: Network-based Detection of IoT Botnet Attacks Using Deep Autoencoders', IEEE Pervasive Computing, Special Issue - Securing the IoT (July/Sep 2018)."
   ]
  },
  {
   "cell_type": "code",
   "execution_count": 30,
   "metadata": {},
   "outputs": [],
   "source": [
    "#Importing all required libraries\n",
    "import pandas as pd \n",
    "import numpy as np\n",
    "import tensorflow as tf\n",
    "from tensorflow import keras\n",
    "import matplotlib.pyplot as plt\n",
    "%matplotlib inline\n",
    "from sklearn import linear_model\n",
    "from sklearn.linear_model import LinearRegression\n",
    "from sklearn.linear_model import LogisticRegression\n",
    "import statsmodels.api as sm\n",
    "from sklearn import neighbors, metrics\n",
    "from sklearn.neighbors import KNeighborsClassifier\n",
    "from sklearn.ensemble import RandomForestClassifier\n",
    "from sklearn.model_selection import train_test_split\n",
    "from sklearn.preprocessing import StandardScaler\n",
    "from sklearn.neural_network import MLPClassifier\n",
    "from sklearn.metrics import accuracy_score,roc_curve,auc,classification_report,confusion_matrix"
   ]
  },
  {
   "cell_type": "code",
   "execution_count": 45,
   "metadata": {},
   "outputs": [],
   "source": [
    "#Loading Data\n",
    "BenignData = pd.read_csv(\"benign_traffic.csv\")\n",
    "#BenignData.head(5)\n",
    "JunkData = pd.read_csv(\"junk.csv\")\n",
    "#JunkData.head(5)\n",
    "ComboData = pd.read_csv(\"combo.csv\")\n",
    "#ComboData.head(5)\n",
    "ScanData = pd.read_csv(\"scan.csv\")\n",
    "#ScanData.head(5)\n",
    "TcpData = pd.read_csv(\"tcp.csv\")\n",
    "#TcpData.head(5)\n",
    "UdpData = pd.read_csv(\"udp.csv\")\n",
    "#UdpData.head(5)"
   ]
  },
  {
   "cell_type": "code",
   "execution_count": 47,
   "metadata": {},
   "outputs": [],
   "source": [
    "#Adding Categorical Vaiables 0-benign 1-threat\n",
    "BenignData[\"output\"] = 0\n",
    "JunkData[\"output\"] = 1\n",
    "ComboData[\"output\"] = 1\n",
    "ScanData[\"output\"] = 1\n",
    "TcpData[\"output\"] = 1\n",
    "UdpData[\"output\"] = 1"
   ]
  },
  {
   "cell_type": "code",
   "execution_count": 48,
   "metadata": {},
   "outputs": [],
   "source": [
    "#Combining benign data with malicious data\n",
    "MixedData = pd.concat([BenignData,JunkData,ComboData,ScanData,TcpData,UdpData], axis=0)"
   ]
  },
  {
   "cell_type": "code",
   "execution_count": 58,
   "metadata": {},
   "outputs": [
    {
     "data": {
      "text/html": [
       "<div>\n",
       "<style scoped>\n",
       "    .dataframe tbody tr th:only-of-type {\n",
       "        vertical-align: middle;\n",
       "    }\n",
       "\n",
       "    .dataframe tbody tr th {\n",
       "        vertical-align: top;\n",
       "    }\n",
       "\n",
       "    .dataframe thead th {\n",
       "        text-align: right;\n",
       "    }\n",
       "</style>\n",
       "<table border=\"1\" class=\"dataframe\">\n",
       "  <thead>\n",
       "    <tr style=\"text-align: right;\">\n",
       "      <th></th>\n",
       "      <th>MI_dir_L5_weight</th>\n",
       "      <th>MI_dir_L5_mean</th>\n",
       "      <th>MI_dir_L5_variance</th>\n",
       "      <th>MI_dir_L3_weight</th>\n",
       "      <th>MI_dir_L3_mean</th>\n",
       "      <th>MI_dir_L3_variance</th>\n",
       "      <th>MI_dir_L1_weight</th>\n",
       "      <th>MI_dir_L1_mean</th>\n",
       "      <th>MI_dir_L1_variance</th>\n",
       "      <th>MI_dir_L0.1_weight</th>\n",
       "      <th>...</th>\n",
       "      <th>HpHp_L0.1_covariance</th>\n",
       "      <th>HpHp_L0.1_pcc</th>\n",
       "      <th>HpHp_L0.01_weight</th>\n",
       "      <th>HpHp_L0.01_mean</th>\n",
       "      <th>HpHp_L0.01_std</th>\n",
       "      <th>HpHp_L0.01_magnitude</th>\n",
       "      <th>HpHp_L0.01_radius</th>\n",
       "      <th>HpHp_L0.01_covariance</th>\n",
       "      <th>HpHp_L0.01_pcc</th>\n",
       "      <th>output</th>\n",
       "    </tr>\n",
       "  </thead>\n",
       "  <tbody>\n",
       "    <tr>\n",
       "      <th>0</th>\n",
       "      <td>-0.602464</td>\n",
       "      <td>-0.455451</td>\n",
       "      <td>-0.087571</td>\n",
       "      <td>-0.598277</td>\n",
       "      <td>-0.509059</td>\n",
       "      <td>-0.095290</td>\n",
       "      <td>-0.586145</td>\n",
       "      <td>-0.585205</td>\n",
       "      <td>-0.117537</td>\n",
       "      <td>-0.570299</td>\n",
       "      <td>...</td>\n",
       "      <td>-0.016013</td>\n",
       "      <td>0.029565</td>\n",
       "      <td>-0.136628</td>\n",
       "      <td>-0.310015</td>\n",
       "      <td>-0.131054</td>\n",
       "      <td>-0.328842</td>\n",
       "      <td>-0.026194</td>\n",
       "      <td>-0.016724</td>\n",
       "      <td>0.128298</td>\n",
       "      <td>-2.844653</td>\n",
       "    </tr>\n",
       "    <tr>\n",
       "      <th>1</th>\n",
       "      <td>-0.602464</td>\n",
       "      <td>0.171191</td>\n",
       "      <td>-0.087571</td>\n",
       "      <td>-0.598277</td>\n",
       "      <td>0.202352</td>\n",
       "      <td>-0.095290</td>\n",
       "      <td>-0.586145</td>\n",
       "      <td>0.237563</td>\n",
       "      <td>-0.117537</td>\n",
       "      <td>-0.570299</td>\n",
       "      <td>...</td>\n",
       "      <td>-0.016013</td>\n",
       "      <td>0.029565</td>\n",
       "      <td>-0.136628</td>\n",
       "      <td>0.104014</td>\n",
       "      <td>-0.131054</td>\n",
       "      <td>-0.048022</td>\n",
       "      <td>-0.026194</td>\n",
       "      <td>-0.016724</td>\n",
       "      <td>0.128298</td>\n",
       "      <td>-2.844653</td>\n",
       "    </tr>\n",
       "    <tr>\n",
       "      <th>2</th>\n",
       "      <td>-0.602464</td>\n",
       "      <td>1.424447</td>\n",
       "      <td>-0.087568</td>\n",
       "      <td>-0.598262</td>\n",
       "      <td>1.622858</td>\n",
       "      <td>-0.095079</td>\n",
       "      <td>-0.585790</td>\n",
       "      <td>1.709798</td>\n",
       "      <td>-0.103737</td>\n",
       "      <td>-0.570014</td>\n",
       "      <td>...</td>\n",
       "      <td>-0.016013</td>\n",
       "      <td>0.029565</td>\n",
       "      <td>-0.136628</td>\n",
       "      <td>0.932070</td>\n",
       "      <td>-0.131054</td>\n",
       "      <td>0.513617</td>\n",
       "      <td>-0.026194</td>\n",
       "      <td>-0.016724</td>\n",
       "      <td>0.128298</td>\n",
       "      <td>-2.844653</td>\n",
       "    </tr>\n",
       "    <tr>\n",
       "      <th>3</th>\n",
       "      <td>-0.602464</td>\n",
       "      <td>-0.455451</td>\n",
       "      <td>-0.087571</td>\n",
       "      <td>-0.598277</td>\n",
       "      <td>-0.509059</td>\n",
       "      <td>-0.095290</td>\n",
       "      <td>-0.586145</td>\n",
       "      <td>-0.585205</td>\n",
       "      <td>-0.117537</td>\n",
       "      <td>-0.570160</td>\n",
       "      <td>...</td>\n",
       "      <td>-0.016013</td>\n",
       "      <td>0.029565</td>\n",
       "      <td>0.096192</td>\n",
       "      <td>-0.310015</td>\n",
       "      <td>-0.131054</td>\n",
       "      <td>-0.328842</td>\n",
       "      <td>-0.026194</td>\n",
       "      <td>-0.016724</td>\n",
       "      <td>0.128298</td>\n",
       "      <td>-2.844653</td>\n",
       "    </tr>\n",
       "    <tr>\n",
       "      <th>4</th>\n",
       "      <td>-0.602464</td>\n",
       "      <td>32.756584</td>\n",
       "      <td>-0.087571</td>\n",
       "      <td>-0.598277</td>\n",
       "      <td>37.195755</td>\n",
       "      <td>-0.095290</td>\n",
       "      <td>-0.586145</td>\n",
       "      <td>43.021504</td>\n",
       "      <td>-0.117537</td>\n",
       "      <td>-0.570299</td>\n",
       "      <td>...</td>\n",
       "      <td>-0.016013</td>\n",
       "      <td>0.029565</td>\n",
       "      <td>0.699982</td>\n",
       "      <td>13.762481</td>\n",
       "      <td>15.092712</td>\n",
       "      <td>9.215990</td>\n",
       "      <td>2.016339</td>\n",
       "      <td>-0.016724</td>\n",
       "      <td>0.128298</td>\n",
       "      <td>-2.844653</td>\n",
       "    </tr>\n",
       "  </tbody>\n",
       "</table>\n",
       "<p>5 rows × 116 columns</p>\n",
       "</div>"
      ],
      "text/plain": [
       "   MI_dir_L5_weight  MI_dir_L5_mean  MI_dir_L5_variance  MI_dir_L3_weight  \\\n",
       "0         -0.602464       -0.455451           -0.087571         -0.598277   \n",
       "1         -0.602464        0.171191           -0.087571         -0.598277   \n",
       "2         -0.602464        1.424447           -0.087568         -0.598262   \n",
       "3         -0.602464       -0.455451           -0.087571         -0.598277   \n",
       "4         -0.602464       32.756584           -0.087571         -0.598277   \n",
       "\n",
       "   MI_dir_L3_mean  MI_dir_L3_variance  MI_dir_L1_weight  MI_dir_L1_mean  \\\n",
       "0       -0.509059           -0.095290         -0.586145       -0.585205   \n",
       "1        0.202352           -0.095290         -0.586145        0.237563   \n",
       "2        1.622858           -0.095079         -0.585790        1.709798   \n",
       "3       -0.509059           -0.095290         -0.586145       -0.585205   \n",
       "4       37.195755           -0.095290         -0.586145       43.021504   \n",
       "\n",
       "   MI_dir_L1_variance  MI_dir_L0.1_weight  ...  HpHp_L0.1_covariance  \\\n",
       "0           -0.117537           -0.570299  ...             -0.016013   \n",
       "1           -0.117537           -0.570299  ...             -0.016013   \n",
       "2           -0.103737           -0.570014  ...             -0.016013   \n",
       "3           -0.117537           -0.570160  ...             -0.016013   \n",
       "4           -0.117537           -0.570299  ...             -0.016013   \n",
       "\n",
       "   HpHp_L0.1_pcc  HpHp_L0.01_weight  HpHp_L0.01_mean  HpHp_L0.01_std  \\\n",
       "0       0.029565          -0.136628        -0.310015       -0.131054   \n",
       "1       0.029565          -0.136628         0.104014       -0.131054   \n",
       "2       0.029565          -0.136628         0.932070       -0.131054   \n",
       "3       0.029565           0.096192        -0.310015       -0.131054   \n",
       "4       0.029565           0.699982        13.762481       15.092712   \n",
       "\n",
       "   HpHp_L0.01_magnitude  HpHp_L0.01_radius  HpHp_L0.01_covariance  \\\n",
       "0             -0.328842          -0.026194              -0.016724   \n",
       "1             -0.048022          -0.026194              -0.016724   \n",
       "2              0.513617          -0.026194              -0.016724   \n",
       "3             -0.328842          -0.026194              -0.016724   \n",
       "4              9.215990           2.016339              -0.016724   \n",
       "\n",
       "   HpHp_L0.01_pcc    output  \n",
       "0        0.128298 -2.844653  \n",
       "1        0.128298 -2.844653  \n",
       "2        0.128298 -2.844653  \n",
       "3        0.128298 -2.844653  \n",
       "4        0.128298 -2.844653  \n",
       "\n",
       "[5 rows x 116 columns]"
      ]
     },
     "metadata": {},
     "output_type": "display_data"
    }
   ],
   "source": [
    "#We normalize the data to bring all the variables to the same range.\n",
    "#This process allows you to compare scores between different types of variables.\n",
    "#Here we are using z-score to Normalize data\n",
    "StandardizedData=(MixedData-MixedData.mean())/(MixedData.std())\n",
    "StandardizedData_array=np.array(StandardizedData)\n",
    "display(StandardizedData.head())"
   ]
  },
  {
   "cell_type": "code",
   "execution_count": 16,
   "metadata": {},
   "outputs": [],
   "source": [
    "#Flattening the array\n",
    "output=np.array(MixedData.output).flatten()"
   ]
  },
  {
   "cell_type": "code",
   "execution_count": 17,
   "metadata": {},
   "outputs": [],
   "source": [
    "#Splitting concatinated data into training and testing (70-30)\n",
    "#Concatinated data is used to avoid overfitting of the model\n",
    "X_train, X_test, y_train, y_test = train_test_split(StandardizedData_array, output, test_size = 0.3, random_state = 1)"
   ]
  },
  {
   "cell_type": "markdown",
   "metadata": {},
   "source": [
    "# Models Used"
   ]
  },
  {
   "cell_type": "code",
   "execution_count": 24,
   "metadata": {},
   "outputs": [],
   "source": [
    "LR =  LogisticRegression()\n",
    "RF =  RandomForestClassifier(n_estimators=15)\n",
    "KNN =  KNeighborsClassifier()\n",
    "MLP = MLPClassifier(hidden_layer_sizes=(1024,1024,))"
   ]
  },
  {
   "cell_type": "code",
   "execution_count": 25,
   "metadata": {},
   "outputs": [],
   "source": [
    "#Function to train and predict various models\n",
    "def train_predict(model, X_train, y_train, X_test, y_test): \n",
    "    model.fit(X_train, y_train)\n",
    "    y_pred = model.predict(X_test)\n",
    "    accuracy = accuracy_score(y_test,y_pred)\n",
    "    report = classification_report(y_test,y_pred)\n",
    "    return accuracy,report"
   ]
  },
  {
   "cell_type": "code",
   "execution_count": 26,
   "metadata": {},
   "outputs": [],
   "source": [
    "import warnings\n",
    "# import warnings filter\n",
    "from warnings import simplefilter\n",
    "# ignore all future warnings\n",
    "simplefilter(action='ignore', category=FutureWarning)"
   ]
  },
  {
   "cell_type": "code",
   "execution_count": 63,
   "metadata": {},
   "outputs": [
    {
     "name": "stdout",
     "output_type": "stream",
     "text": [
      "The accuracy score of Logistic Regression is 1.000000\n",
      "Classification report :-\n",
      "              precision    recall  f1-score   support\n",
      "\n",
      "           0       1.00      1.00      1.00     11737\n",
      "           1       1.00      1.00      1.00     94913\n",
      "\n",
      "    accuracy                           1.00    106650\n",
      "   macro avg       1.00      1.00      1.00    106650\n",
      "weighted avg       1.00      1.00      1.00    106650\n",
      "\n"
     ]
    }
   ],
   "source": [
    "LR_acc,LR_report = train_predict(LR,X_train,y_train,X_test,y_test)\n",
    "print(\"The accuracy score of Logistic Regression is %f\"%LR_acc)\n",
    "print(\"Classification report :-\")\n",
    "print(LR_report)"
   ]
  },
  {
   "cell_type": "code",
   "execution_count": 28,
   "metadata": {},
   "outputs": [
    {
     "name": "stdout",
     "output_type": "stream",
     "text": [
      "The accuracy score of Random Forest Classifier is 1.000000\n",
      "Classification report :-\n",
      "              precision    recall  f1-score   support\n",
      "\n",
      "           0       1.00      1.00      1.00     11737\n",
      "           1       1.00      1.00      1.00     94913\n",
      "\n",
      "    accuracy                           1.00    106650\n",
      "   macro avg       1.00      1.00      1.00    106650\n",
      "weighted avg       1.00      1.00      1.00    106650\n",
      "\n"
     ]
    }
   ],
   "source": [
    "RF_acc,RF_report = train_predict(RF,X_train,y_train,X_test,y_test)\n",
    "print(\"The accuracy score of Random Forest Classifier is %f\"%RF_acc)\n",
    "print(\"Classification report :-\")\n",
    "print(RF_report)"
   ]
  },
  {
   "cell_type": "code",
   "execution_count": 64,
   "metadata": {},
   "outputs": [
    {
     "name": "stdout",
     "output_type": "stream",
     "text": [
      "The accuracy score of Multilayer Preceptron is 0.999991\n",
      "Classification report :-\n",
      "              precision    recall  f1-score   support\n",
      "\n",
      "           0       1.00      1.00      1.00     11737\n",
      "           1       1.00      1.00      1.00     94913\n",
      "\n",
      "    accuracy                           1.00    106650\n",
      "   macro avg       1.00      1.00      1.00    106650\n",
      "weighted avg       1.00      1.00      1.00    106650\n",
      "\n"
     ]
    }
   ],
   "source": [
    "MLP_acc,MLP_report = train_predict(MLP,X_train,y_train,X_test,y_test)\n",
    "print(\"The accuracy score of Multilayer Preceptron is %f\"%MLP_acc)\n",
    "print(\"Classification report :-\")\n",
    "print(MLP_report)"
   ]
  },
  {
   "cell_type": "code",
   "execution_count": 65,
   "metadata": {},
   "outputs": [
    {
     "name": "stdout",
     "output_type": "stream",
     "text": [
      "The accuracy score of K-nearest neighbour is 0.999916\n",
      "Classification report :-\n",
      "              precision    recall  f1-score   support\n",
      "\n",
      "           0       1.00      1.00      1.00     11737\n",
      "           1       1.00      1.00      1.00     94913\n",
      "\n",
      "    accuracy                           1.00    106650\n",
      "   macro avg       1.00      1.00      1.00    106650\n",
      "weighted avg       1.00      1.00      1.00    106650\n",
      "\n"
     ]
    }
   ],
   "source": [
    "KNN_acc, KNN_report =train_predict(KNN,X_train,y_train,X_test,y_test)\n",
    "print(\"The accuracy score of K-nearest neighbour is %f\"%KNN_acc)\n",
    "print(\"Classification report :-\")\n",
    "print(KNN_report)"
   ]
  },
  {
   "cell_type": "code",
   "execution_count": null,
   "metadata": {},
   "outputs": [],
   "source": []
  }
 ],
 "metadata": {
  "kernelspec": {
   "display_name": "Python 3",
   "language": "python",
   "name": "python3"
  },
  "language_info": {
   "codemirror_mode": {
    "name": "ipython",
    "version": 3
   },
   "file_extension": ".py",
   "mimetype": "text/x-python",
   "name": "python",
   "nbconvert_exporter": "python",
   "pygments_lexer": "ipython3",
   "version": "3.7.3"
  }
 },
 "nbformat": 4,
 "nbformat_minor": 2
}
